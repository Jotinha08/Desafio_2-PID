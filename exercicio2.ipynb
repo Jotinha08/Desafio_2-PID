{
 "cells": [
  {
   "cell_type": "code",
   "execution_count": 10,
   "metadata": {},
   "outputs": [],
   "source": [
    "import numpy as np\n",
    "import cv2"
   ]
  },
  {
   "cell_type": "code",
   "execution_count": 11,
   "metadata": {},
   "outputs": [],
   "source": [
    "def load_image(image_path):\n",
    "    image = cv2.imread(image_path)\n",
    "    return image\n",
    "\n",
    "def otsu_limiar(image):\n",
    "    # CONVERTER PARA ESCALA DE CINZA\n",
    "    image_gray = cv2.cvtColor(image, cv2.COLOR_BGR2GRAY)\n",
    "\n",
    "    # OTSU\n",
    "    _, otsu = cv2.threshold(image_gray, 0, 255, cv2.THRESH_BINARY + cv2.THRESH_OTSU)\n",
    "    return otsu\n",
    "\n",
    "def watershed_limiar(image):\n",
    "    # CONVERTER PARA ESCALA DE CINZA\n",
    "    image_gray = cv2.cvtColor(image, cv2.COLOR_BGR2GRAY)\n",
    "\n",
    "    # BINARIZAR\n",
    "    _, binarizada = cv2.threshold(image_gray, 0, 255, cv2.THRESH_BINARY_INV + cv2.THRESH_OTSU)\n",
    "    \n",
    "    # ABERTURA PARA REMOVER RUÍDOS\n",
    "    kernel = np.ones((3, 3), np.uint8)\n",
    "    opening = cv2.morphologyEx(binarizada, cv2.MORPH_OPEN, kernel, iterations = 2)\n",
    "    \n",
    "    # ENCONTRAR CONTORNOS\n",
    "    sure_bg = cv2.dilate(opening, kernel, iterations=3)\n",
    "    dist_transform = cv2.distanceTransform(opening, cv2.DIST_L2, 5)\n",
    "    _, sure_fg = cv2.threshold(dist_transform, 0.7*dist_transform.max(), 255, 0)\n",
    "    sure_fg = np.uint8(sure_fg)\n",
    "    unknown = cv2.subtract(sure_bg, sure_fg)\n",
    "    \n",
    "    # ROTULAR MARCADORES\n",
    "    _, markers = cv2.connectedComponents(sure_fg)\n",
    "    markers += 1\n",
    "    markers[unknown == 255] = 0\n",
    "    \n",
    "    # WATERSHED\n",
    "    markers = cv2.watershed(image, markers)\n",
    "    image[markers == -1] = [255, 0, 0]\n",
    "    \n",
    "    return image"
   ]
  },
  {
   "cell_type": "code",
   "execution_count": 12,
   "metadata": {},
   "outputs": [],
   "source": [
    "imagens = ['00', '23', '28', '48', '68', '75', '144']\n",
    "\n",
    "for i in imagens:\n",
    "    image = load_image(f\"src/org/{i}h.jpg\")\n",
    "\n",
    "    otsu = otsu_limiar(image)\n",
    "    cv2.imwrite(f'src/lim/otsu/{i}h.jpg', otsu)\n",
    "\n",
    "    watershed = watershed_limiar(image)\n",
    "    cv2.imwrite(f'src/lim/watershed/{i}h.jpg', watershed)"
   ]
  }
 ],
 "metadata": {
  "kernelspec": {
   "display_name": "Python 3",
   "language": "python",
   "name": "python3"
  },
  "language_info": {
   "codemirror_mode": {
    "name": "ipython",
    "version": 3
   },
   "file_extension": ".py",
   "mimetype": "text/x-python",
   "name": "python",
   "nbconvert_exporter": "python",
   "pygments_lexer": "ipython3",
   "version": "3.10.12"
  }
 },
 "nbformat": 4,
 "nbformat_minor": 2
}

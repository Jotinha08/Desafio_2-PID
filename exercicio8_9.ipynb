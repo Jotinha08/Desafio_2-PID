{
 "cells": [
  {
   "cell_type": "code",
   "execution_count": 418,
   "metadata": {},
   "outputs": [],
   "source": [
    "import pandas as pd\n",
    "import numpy as np\n",
    "import matplotlib.pyplot as plt\n",
    "\n",
    "data = {\n",
    "    'Intervalo': ['00h', '23h', '48h', '68h', '75h', '144h'],\n",
    "    'SMA': [0.0527, 0.0015, 0.0013, 0.0006, 0.0014, 0.0010],\n",
    "    'Entropia': [5.625, 6.562, 6.920, 7.484, 6.755, 6.998],\n",
    "    'Correlação': [0.997, 0.998, 0.997, 0.996, 0.997, 0.997],\n",
    "    'Contraste': [6.937, 9.437, 13.684, 19.279, 13.950, 13.322],\n",
    "    'Homogeneidade': [0.436, 0.399, 0.316, 0.253, 0.335, 0.328],\n",
    "    'Dim. Fractal': [2.551, 2.598, 2.601, 2.605, 2.608, 2.601],\n",
    "    'Lacunaridade': [1.979535, 1.979542, 1.979544, 1.979560, 1.979633, 1.979666]\n",
    "}\n",
    "\n",
    "df = pd.DataFrame(data)"
   ]
  },
  {
   "cell_type": "code",
   "execution_count": 420,
   "metadata": {},
   "outputs": [
    {
     "name": "stdout",
     "output_type": "stream",
     "text": [
      "Desvio Padrão\n",
      "Contraste        4.243403\n",
      "Entropia         0.620661\n",
      "Homogeneidade    0.064637\n",
      "Dim. Fractal     0.021354\n",
      "SMA              0.021044\n",
      "Correlação       0.000632\n",
      "Lacunaridade     0.000055\n",
      "dtype: float64\n"
     ]
    }
   ],
   "source": [
    "numeric_columns = df.drop('Intervalo', axis=1)\n",
    "std_deviation = numeric_columns.std()\n",
    "std_deviation_sorted = std_deviation.sort_values(ascending=False)\n",
    "\n",
    "print(\"Desvio Padrão\")\n",
    "print(std_deviation_sorted)"
   ]
  },
  {
   "cell_type": "code",
   "execution_count": 421,
   "metadata": {},
   "outputs": [],
   "source": [
    "fator_aumento = 30\n",
    "noise_level = 0.0001\n",
    "novos_dados = []\n",
    "\n",
    "for intervalo in df['Intervalo'].unique():\n",
    "    dados_intervalo = df[df['Intervalo'] == intervalo]\n",
    "    novos_dados.extend([dados_intervalo] * fator_aumento)\n",
    "\n",
    "dados_aumentados = pd.concat(novos_dados, ignore_index=True)\n",
    "numeric_columns = dados_aumentados.drop('Intervalo', axis=1).columns\n",
    "dados_aumentados[numeric_columns] += np.random.normal(0, noise_level, dados_aumentados[numeric_columns].shape)"
   ]
  },
  {
   "cell_type": "code",
   "execution_count": 422,
   "metadata": {},
   "outputs": [
    {
     "name": "stdout",
     "output_type": "stream",
     "text": [
      "Desvio Padrão\n",
      "Contraste        3.884485\n",
      "Entropia         0.568168\n",
      "Homogeneidade    0.059176\n",
      "Dim. Fractal     0.019544\n",
      "SMA              0.019264\n",
      "Correlação       0.000589\n",
      "Lacunaridade     0.000109\n",
      "dtype: float64\n"
     ]
    }
   ],
   "source": [
    "numeric_columns = dados_aumentados.drop('Intervalo', axis=1)\n",
    "std_deviation = numeric_columns.std()\n",
    "std_deviation_sorted = std_deviation.sort_values(ascending=False)\n",
    "\n",
    "print(\"Desvio Padrão\")\n",
    "print(std_deviation_sorted)\n"
   ]
  },
  {
   "cell_type": "code",
   "execution_count": 423,
   "metadata": {},
   "outputs": [
    {
     "name": "stdout",
     "output_type": "stream",
     "text": [
      "Accuracy: 0.9888888888888889\n",
      "\n",
      "Classification Report:\n",
      "              precision    recall  f1-score   support\n",
      "\n",
      "         00h       1.00      1.00      1.00        15\n",
      "        144h       1.00      0.93      0.97        15\n",
      "         23h       1.00      1.00      1.00        15\n",
      "         48h       1.00      1.00      1.00        15\n",
      "         68h       0.94      1.00      0.97        15\n",
      "         75h       1.00      1.00      1.00        15\n",
      "\n",
      "    accuracy                           0.99        90\n",
      "   macro avg       0.99      0.99      0.99        90\n",
      "weighted avg       0.99      0.99      0.99        90\n",
      "\n"
     ]
    }
   ],
   "source": [
    "from sklearn.tree import DecisionTreeClassifier\n",
    "from sklearn.model_selection import train_test_split\n",
    "from sklearn.metrics import accuracy_score, classification_report\n",
    "from sklearn import preprocessing\n",
    "\n",
    "X = dados_aumentados.drop('Intervalo', axis=1)\n",
    "y = dados_aumentados['Intervalo']\n",
    "\n",
    "# scaler = preprocessing.StandardScaler()\n",
    "# X_scaled = scaler.fit_transform(X)\n",
    "\n",
    "X_train, X_test, y_train, y_test = train_test_split(dados_aumentados.drop('Intervalo', axis=1),\n",
    "                                                    dados_aumentados['Intervalo'], \n",
    "                                                    test_size=0.5, \n",
    "                                                    stratify=dados_aumentados['Intervalo'], \n",
    "                                                    random_state=100)\n",
    "\n",
    "clf = DecisionTreeClassifier(random_state=100)\n",
    "clf.fit(X_train, y_train)\n",
    "\n",
    "y_pred = clf.predict(X_test)\n",
    "\n",
    "accuracy = accuracy_score(y_test, y_pred)\n",
    "print(\"Accuracy:\", accuracy)\n",
    "print(\"\\nClassification Report:\")\n",
    "print(classification_report(y_test, y_pred))"
   ]
  }
 ],
 "metadata": {
  "kernelspec": {
   "display_name": "Python 3",
   "language": "python",
   "name": "python3"
  },
  "language_info": {
   "codemirror_mode": {
    "name": "ipython",
    "version": 3
   },
   "file_extension": ".py",
   "mimetype": "text/x-python",
   "name": "python",
   "nbconvert_exporter": "python",
   "pygments_lexer": "ipython3",
   "version": "3.12.3"
  }
 },
 "nbformat": 4,
 "nbformat_minor": 2
}

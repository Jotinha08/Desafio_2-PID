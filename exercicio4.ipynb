{
 "cells": [
  {
   "cell_type": "code",
   "execution_count": null,
   "metadata": {},
   "outputs": [],
   "source": [
    "import numpy as np\n",
    "import cv2\n",
    "import pylab as pl\n",
    "import csv\n",
    "import matplotlib.pyplot as plt\n",
    "import math\n",
    "\n",
    "def box_counting(image, box_sizes):\n",
    "\tbox_counts = []\n",
    "\n",
    "\tfor size in box_sizes:\n",
    "\t\tcount = 0\n",
    "\n",
    "\t\tfor i in range(0, image.shape[0], size):\n",
    "\t\t\tfor j in range(0, image.shape[1], size):\n",
    "\t\t\t\tunique_intensities = np.unique(image[i:i+size, j:j+size])\n",
    "\t\t\t\tcount += math.ceil(np.max(unique_intensities) / size)\n",
    "\t\t\t\t\n",
    "\t\tbox_counts.append(count)\n",
    "\n",
    "\treturn box_counts\n",
    "\n",
    "def calculate_fractal_dimension(box_counts, box_sizes):\n",
    "\tlog_sizes = np.log(box_sizes)\n",
    "\tlog_counts = np.log(box_counts)\n",
    "\n",
    "\tm, c = np.linalg.lstsq(np.vstack([log_sizes, np.ones(len(log_sizes))]).T, log_counts, rcond=None)[0]\n",
    "\n",
    "\tfractal_dimension = -m\n",
    "\treturn fractal_dimension\n",
    "\n",
    "def plot_fractal_dimension(box_sizes, box_counts, fractal_dimension, imageName, type):\n",
    "\tplt.figure()\n",
    "\tplt.plot(np.log(box_sizes), np.log(box_counts), 'o-', label='Quantidade de Caixas')\n",
    "\tplt.xlabel('Log(tamanho da caixa)')\n",
    "\tplt.ylabel('Log(quantidade de caixas)')\n",
    "\tplt.grid(True)\n",
    "\tplt.title(f'Dimensão Fractal: {fractal_dimension}')\n",
    "\tplt.savefig(f'src/df/{type}/{imageName}h.png')\n",
    "\n",
    "type = 'black'\n",
    "imagens = ['00', '23', '48', '68', '75', '144']\n",
    "\n",
    "with open(f'src/data/{type}/df.csv', mode='w', newline='') as f:\n",
    "\twriter = csv.writer(f)\n",
    "\n",
    "\tfor imageName in imagens:\n",
    "\t\timage = cv2.cvtColor(cv2.imread(f'src/{type}/{imageName}h.jpg'), cv2.COLOR_RGB2GRAY)\n",
    "\n",
    "\t\tbox_sizes = np.logspace(start = 1, stop = int(np.log2(np.min(image.shape)) - 1), num = int(np.log2(np.min(image.shape)) - 1), base = 2).astype(int)\n",
    "\t\tbox_counts = box_counting(image, box_sizes)\n",
    "\n",
    "\t\tfractal_dimension = calculate_fractal_dimension(box_counts, box_sizes)\n",
    "\t\twriter.writerow([imageName, fractal_dimension])\n",
    "\n",
    "\t\tplot_fractal_dimension(box_sizes, box_counts, fractal_dimension, imageName, type)"
   ]
  }
 ],
 "metadata": {
  "kernelspec": {
   "display_name": "Python 3",
   "language": "python",
   "name": "python3"
  },
  "language_info": {
   "codemirror_mode": {
    "name": "ipython",
    "version": 3
   },
   "file_extension": ".py",
   "mimetype": "text/x-python",
   "name": "python",
   "nbconvert_exporter": "python",
   "pygments_lexer": "ipython3",
   "version": "3.10.12"
  }
 },
 "nbformat": 4,
 "nbformat_minor": 2
}

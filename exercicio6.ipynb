{
 "cells": [
  {
   "cell_type": "code",
   "execution_count": 1,
   "metadata": {},
   "outputs": [],
   "source": [
    "import pandas as pd\n",
    "\n",
    "def read_files_and_create_dict(descritores_file, df_file, lac_file):\n",
    "    descritores_df = pd.read_csv(descritores_file, header=None)\n",
    "    df_df = pd.read_csv(df_file, header=None)\n",
    "    lac_df = pd.read_csv(lac_file, header=None)\n",
    "\n",
    "    result_dict = {}\n",
    "\n",
    "    for i, row in descritores_df.iterrows():\n",
    "        label = str(int(row[0]))\n",
    "        \n",
    "        descritores_values = row.values.tolist()[1:]\n",
    "        df_values = df_df.iloc[i].values.tolist()[1:]\n",
    "        lac_values = lac_df.iloc[i].values.tolist()[1:]\n",
    "        \n",
    "        result_dict[label] = descritores_values + df_values + lac_values\n",
    "\n",
    "    return result_dict\n",
    "\n",
    "type = 'black'\n",
    "\n",
    "descritores_file = f'src/data/{type}/descritores.csv'\n",
    "df_file = f'src/data/{type}/df.csv'\n",
    "lac_file = f'src/data/{type}/lac.csv'\n",
    "\n",
    "result_dict = read_files_and_create_dict(descritores_file, df_file, lac_file)\n",
    "with open(f'src/data/{type}/vetores_caracteristicas.csv', 'w') as f:\n",
    "    for key, values in result_dict.items():\n",
    "        line = f\"{key},{','.join(map(str, values))}\\n\"\n",
    "        f.write(line)"
   ]
  }
 ],
 "metadata": {
  "kernelspec": {
   "display_name": "Python 3",
   "language": "python",
   "name": "python3"
  },
  "language_info": {
   "codemirror_mode": {
    "name": "ipython",
    "version": 3
   },
   "file_extension": ".py",
   "mimetype": "text/x-python",
   "name": "python",
   "nbconvert_exporter": "python",
   "pygments_lexer": "ipython3",
   "version": "3.10.12"
  }
 },
 "nbformat": 4,
 "nbformat_minor": 2
}
